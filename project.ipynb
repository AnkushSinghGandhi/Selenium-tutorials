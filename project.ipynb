{
 "metadata": {
  "language_info": {
   "codemirror_mode": {
    "name": "ipython",
    "version": 3
   },
   "file_extension": ".py",
   "mimetype": "text/x-python",
   "name": "python",
   "nbconvert_exporter": "python",
   "pygments_lexer": "ipython3",
   "version": "3.8.2-final"
  },
  "orig_nbformat": 2,
  "kernelspec": {
   "name": "python_defaultSpec_1599239717874",
   "display_name": "Python 3.8.2 64-bit"
  }
 },
 "nbformat": 4,
 "nbformat_minor": 2,
 "cells": [
  {
   "cell_type": "code",
   "execution_count": 1,
   "metadata": {},
   "outputs": [],
   "source": [
    "from selenium import webdriver\n",
    "from selenium.webdriver.common.keys import Keys\n",
    "\n",
    "from selenium.webdriver.common.by import By\n",
    "from selenium.webdriver.support.ui import WebDriverWait\n",
    "\n",
    "from selenium.webdriver.support import expected_conditions as EC"
   ]
  },
  {
   "cell_type": "code",
   "execution_count": 2,
   "metadata": {},
   "outputs": [],
   "source": [
    "driver = webdriver.Chrome()\n",
    "driver.get(\"https://www.selenium.dev/\")"
   ]
  },
  {
   "cell_type": "code",
   "execution_count": 7,
   "metadata": {},
   "outputs": [],
   "source": [
    "#driver.get(\"https://www.google.com\")\n",
    "#gmail = driver.find_element_by_link_text(\"Gmail\")"
   ]
  },
  {
   "cell_type": "code",
   "execution_count": 3,
   "metadata": {},
   "outputs": [],
   "source": [
    "search = driver.find_element_by_id(\"gsc-i-id1\")\n",
    "search.send_keys(\"facebook\")\n",
    "search.send_keys(Keys.RETURN)"
   ]
  },
  {
   "cell_type": "code",
   "execution_count": 9,
   "metadata": {},
   "outputs": [],
   "source": [
    "#search_results = driver.find_element_by_class_name(\"gsc-wrapper\")\n",
    "#print(search_results.text)"
   ]
  },
  {
   "cell_type": "code",
   "execution_count": 10,
   "metadata": {},
   "outputs": [],
   "source": [
    "#gmail.click()"
   ]
  },
  {
   "cell_type": "code",
   "execution_count": 4,
   "metadata": {
    "tags": []
   },
   "outputs": [
    {
     "output_type": "stream",
     "name": "stdout",
     "text": "The Selenium Browser Automation Project :: Documentation for ...\nwww.seleniumhq.org/docs/01_introducing_selenium.jsp\n... Two Factor Authentication · File downloads · HTTP response codes · Gmail, email and Facebook · Test dependency · Performance testing · Link spidering.\nEcosystem\nhttps://www.seleniumhq.org/ecosystem/\nhs-webdriver, Haskell, Adam Curtis. wd, JavaScript, Adam Christian. Selenium- Remote-Driver, Perl, George S. Baugh. php-webdriver, PHP, Facebook.\nCopyright and attributions :: Documentation for Selenium\nhttps://www.seleniumhq.org/about/license.jsp\n... Two Factor Authentication · File downloads · HTTP response codes · Gmail, email and Facebook · Test dependency · Performance testing · Link spidering.\nSelenium History\nhttps://www.seleniumhq.org/about/history.jsp\nSimon, at Google from 2007 to 2012, and now at Facebook, gets to spend some of his time making that a reality. Selenium Level Sponsors ...\nExceptions\nhttps://www.seleniumhq.org/exceptions/stale_element_reference.jsp\nInvalid Selector. This section describes why you might be seeing the InvalidSelectorError (or similar). Common Causes. The CSS or xPath selector you are trying ...\nsearchSearch for facebook on Google\n"
    }
   ],
   "source": [
    "try:\n",
    "    search_result = WebDriverWait(driver, 3).until(\n",
    "        EC.presence_of_element_located((By.CLASS_NAME, \"gsc-wrapper\"))\n",
    "   )\n",
    "    print(search_result.text)\n",
    "except:\n",
    "   driver.quit()"
   ]
  },
  {
   "cell_type": "code",
   "execution_count": null,
   "metadata": {},
   "outputs": [],
   "source": []
  }
 ]
}